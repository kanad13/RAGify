{
 "cells": [
  {
   "cell_type": "markdown",
   "metadata": {},
   "source": [
    "# Introduction\n",
    "\n",
    "This jupyter notebook helps you to build a RAG system from scratch.\n"
   ]
  },
  {
   "cell_type": "markdown",
   "metadata": {},
   "source": [
    "## Setup dev env\n"
   ]
  },
  {
   "cell_type": "markdown",
   "metadata": {},
   "source": [
    "### Python\n",
    "\n",
    "It all starts with Python as usual. Install it as described [here](https://wiki.python.org/moin/BeginnersGuide/Download).\n"
   ]
  },
  {
   "cell_type": "markdown",
   "metadata": {},
   "source": [
    "### Git\n",
    "\n",
    "- Create a folder named \"RAGify\" or any other name you would like.\n",
    "- Make a Git repository out of this folder. If you are new to the Git topic, then [check here for help](https://docs.github.com/en/get-started/getting-started-with-git/set-up-git).\n"
   ]
  },
  {
   "cell_type": "code",
   "execution_count": null,
   "metadata": {},
   "outputs": [],
   "source": [
    "# Create a folder named \"RAGify\" or any other name you would like\n",
    "import os\n",
    "\n",
    "os.makedirs(\"RAGify\", exist_ok=True)\n",
    "\n",
    "# Navigate into the folder\n",
    "%cd RAGify\n",
    "\n",
    "# Initialize a git repository\n",
    "!git init"
   ]
  },
  {
   "cell_type": "markdown",
   "metadata": {},
   "source": [
    "## Python Virtual Environment\n",
    "\n",
    "- [Check here](https://realpython.com/python-virtual-environments-a-primer/) why is a venv useful\n",
    "- Run cell below to create a venv\n"
   ]
  },
  {
   "cell_type": "code",
   "execution_count": null,
   "metadata": {},
   "outputs": [],
   "source": [
    "# Create a Python virtual environment\n",
    "!python -m venv rag_venv\n",
    "\n",
    "# Add the virtual environment folder to \".gitignore\" file\n",
    "with open(\".gitignore\", \"a\") as f:\n",
    "    f.write(\"rag_venv/\\n\")\n"
   ]
  },
  {
   "cell_type": "markdown",
   "metadata": {},
   "source": [
    "- Activate the virtual environment:\n",
    "  - On Windows - `.\\rag_venv\\Scripts\\activate`\n",
    "  - On Mac - `source rag_venv/bin/activate`\n"
   ]
  },
  {
   "cell_type": "markdown",
   "metadata": {},
   "source": [
    "## Install Packages\n"
   ]
  },
  {
   "cell_type": "code",
   "execution_count": null,
   "metadata": {},
   "outputs": [],
   "source": [
    "# Create requirements.txt file\n",
    "requirements = \"\"\"\n",
    "streamlit\n",
    "sentence-transformers\n",
    "PyPDF2\n",
    "langchain\n",
    "faiss-cpu\n",
    "google-generativeai\n",
    "\"\"\"\n",
    "\n",
    "with open(\"requirements.txt\", \"w\") as f:\n",
    "    f.write(requirements)\n",
    "\n",
    "# Install all dependencies\n",
    "!pip install -r requirements.txt\n"
   ]
  }
 ],
 "metadata": {
  "language_info": {
   "name": "python"
  }
 },
 "nbformat": 4,
 "nbformat_minor": 2
}
