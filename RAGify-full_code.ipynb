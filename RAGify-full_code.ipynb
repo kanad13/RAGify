{
 "cells": [
  {
   "cell_type": "markdown",
   "metadata": {},
   "source": [
    "# Introduction\n",
    "\n",
    "This jupyter notebook helps you to build a RAG system from scratch.\n",
    "\n",
    "I strongly recommend you to checkout the [README](./readme.md) section to gain a background about this topic before diving straight into the code.\n"
   ]
  },
  {
   "cell_type": "markdown",
   "metadata": {},
   "source": [
    "# Setup dev env\n"
   ]
  },
  {
   "cell_type": "markdown",
   "metadata": {},
   "source": [
    "### Python\n",
    "\n",
    "It all starts with Python as usual. Install it as described [here](https://wiki.python.org/moin/BeginnersGuide/Download).\n"
   ]
  },
  {
   "cell_type": "markdown",
   "metadata": {},
   "source": [
    "### Git\n",
    "\n",
    "- Create a folder named \"RAGify\" or any other name you would like.\n",
    "- Make a Git repository out of this folder. If you are new to the Git topic, then [check here for help](https://docs.github.com/en/get-started/getting-started-with-git/set-up-git).\n"
   ]
  },
  {
   "cell_type": "code",
   "execution_count": null,
   "metadata": {},
   "outputs": [],
   "source": [
    "# Create a folder named \"RAGify\" or any other name you would like\n",
    "import os\n",
    "\n",
    "#os.makedirs(\"RAGify\", exist_ok=True)\n",
    "\n",
    "# Navigate into the folder\n",
    "#%cd RAGify\n",
    "\n",
    "# Initialize a git repository\n",
    "#!git init"
   ]
  },
  {
   "cell_type": "markdown",
   "metadata": {},
   "source": [
    "## Python Virtual Environment\n",
    "\n",
    "- [Check here](https://realpython.com/python-virtual-environments-a-primer/) why is a venv useful\n",
    "- Run cell below to create a venv\n"
   ]
  },
  {
   "cell_type": "code",
   "execution_count": null,
   "metadata": {},
   "outputs": [],
   "source": [
    "# Create a Python virtual environment\n",
    "#!python -m venv rag_venv\n",
    "\n",
    "# Add the virtual environment folder to \".gitignore\" file\n",
    "with open(\".gitignore\", \"a\") as f:\n",
    "    f.write(\"rag_venv/\\n\")\n"
   ]
  },
  {
   "cell_type": "markdown",
   "metadata": {},
   "source": [
    "- Activate the virtual environment:\n",
    "  - On Windows - `.\\rag_venv\\Scripts\\activate`\n",
    "  - On Mac - `source rag_venv/bin/activate`\n"
   ]
  },
  {
   "cell_type": "markdown",
   "metadata": {},
   "source": [
    "## Install Packages\n"
   ]
  },
  {
   "cell_type": "code",
   "execution_count": null,
   "metadata": {},
   "outputs": [],
   "source": [
    "# Create requirements.txt file\n",
    "requirements = \"\"\"\n",
    "streamlit\n",
    "sentence-transformers\n",
    "pypdf\n",
    "langchain\n",
    "faiss-cpu\n",
    "google-generativeai\n",
    "groq\n",
    "python-dotenv\n",
    "IProgress\n",
    "\"\"\"\n",
    "\n",
    "with open(\"requirements.txt\", \"w\") as f:\n",
    "    f.write(requirements)\n",
    "\n",
    "# Install all dependencies\n",
    "!pip install -r requirements.txt\n"
   ]
  },
  {
   "cell_type": "markdown",
   "metadata": {},
   "source": [
    "# Process input PDF files\n"
   ]
  },
  {
   "cell_type": "code",
   "execution_count": 1,
   "metadata": {},
   "outputs": [],
   "source": [
    "# Import the PdfReader class from the pypdf library\n",
    "from pypdf import PdfReader\n",
    "\n",
    "def extract_text_from_pdf(pdf_path):\n",
    "    \"\"\"\n",
    "    Extract text from a PDF file.\n",
    "\n",
    "    Args:\n",
    "    pdf_path (str): The file path to the PDF.\n",
    "\n",
    "    Returns:\n",
    "    str: Extracted text from all pages of the PDF.\n",
    "    \"\"\"\n",
    "    # Open the PDF file in binary read mode\n",
    "    with open(pdf_path, 'rb') as file:\n",
    "        # Create a PdfReader object to read the PDF\n",
    "        reader = PdfReader(file)\n",
    "\n",
    "        # Initialize an empty string to store the extracted text\n",
    "        text = ''\n",
    "\n",
    "        # Iterate through each page in the PDF\n",
    "        for page in reader.pages:\n",
    "            # Extract text from the current page and add it to the text string\n",
    "            # The '\\n' adds a newline character after each page's text\n",
    "            text += page.extract_text() + '\\n'\n",
    "\n",
    "    # Return the accumulated text from all pages\n",
    "    return text\n",
    "\n",
    "# List of file paths for the PDFs to process\n",
    "pdf_paths = [\n",
    "    './input_files/01-about_blunder_mifflin.pdf',\n",
    "    './input_files/02-employee_handbook.pdf',\n",
    "    './input_files/03-relationships_policy.pdf',\n",
    "    './input_files/04-prank_protocol.pdf',\n",
    "    './input_files/05-birthday_party_committee_rules.pdf',\n",
    "]\n",
    "\n",
    "# Use a list comprehension to extract text from all PDFs\n",
    "# This creates a list where each item is the extracted text from one PDF\n",
    "documents = [extract_text_from_pdf(pdf_path) for pdf_path in pdf_paths]\n",
    "\n",
    "# At this point, 'documents' is a list of strings, where each string\n",
    "# contains the full text of one PDF file"
   ]
  },
  {
   "cell_type": "markdown",
   "metadata": {},
   "source": [
    "# Text Chunking with LangChain\n"
   ]
  },
  {
   "cell_type": "code",
   "execution_count": 2,
   "metadata": {},
   "outputs": [],
   "source": [
    "from langchain.text_splitter import RecursiveCharacterTextSplitter\n",
    "\n",
    "def create_chunks(text, chunk_size=500, chunk_overlap=50):\n",
    "    \"\"\"\n",
    "    Split a large text into smaller chunks.\n",
    "\n",
    "    Args:\n",
    "    text (str): The input text to be split.\n",
    "    chunk_size (int): The maximum size of each chunk.\n",
    "    chunk_overlap (int): The number of characters to overlap between chunks.\n",
    "\n",
    "    Returns:\n",
    "    list: A list of text chunks.\n",
    "    \"\"\"\n",
    "    text_splitter = RecursiveCharacterTextSplitter(\n",
    "        chunk_size=chunk_size,\n",
    "        chunk_overlap=chunk_overlap,\n",
    "        length_function=len,\n",
    "    )\n",
    "    chunks = text_splitter.split_text(text)\n",
    "    return chunks\n",
    "\n",
    "# Create chunks for all documents\n",
    "all_chunks = []\n",
    "for doc in documents:\n",
    "    all_chunks.extend(create_chunks(doc))"
   ]
  },
  {
   "cell_type": "markdown",
   "metadata": {},
   "source": [
    "# Embedding Creation with Sentence Transformers\n"
   ]
  },
  {
   "cell_type": "code",
   "execution_count": 3,
   "metadata": {},
   "outputs": [
    {
     "name": "stderr",
     "output_type": "stream",
     "text": [
      "/Users/industry132317/Data/repos/RAGify/rag_venv/lib/python3.12/site-packages/sentence_transformers/cross_encoder/CrossEncoder.py:11: TqdmWarning: IProgress not found. Please update jupyter and ipywidgets. See https://ipywidgets.readthedocs.io/en/stable/user_install.html\n",
      "  from tqdm.autonotebook import tqdm, trange\n"
     ]
    }
   ],
   "source": [
    "from sentence_transformers import SentenceTransformer\n",
    "\n",
    "def create_embeddings(chunks):\n",
    "    \"\"\"\n",
    "    Generate embeddings for a list of text chunks.\n",
    "\n",
    "    Args:\n",
    "        chunks (list): A list of text chunks to embed.\n",
    "\n",
    "    Returns:\n",
    "        list: A list of embedding vectors.\n",
    "    \"\"\"\n",
    "    # Initialize the SentenceTransformer model\n",
    "    model = SentenceTransformer('all-MiniLM-L6-v2')\n",
    "\n",
    "    # Generate embeddings for all chunks\n",
    "    embeddings = model.encode(chunks)\n",
    "\n",
    "    return embeddings\n",
    "\n",
    "# Create embeddings for all chunks\n",
    "embeddings = create_embeddings(all_chunks)"
   ]
  },
  {
   "cell_type": "markdown",
   "metadata": {},
   "source": [
    "# Vector Database Setup with FAISS\n"
   ]
  },
  {
   "cell_type": "code",
   "execution_count": 4,
   "metadata": {},
   "outputs": [],
   "source": [
    "import faiss\n",
    "import numpy as np\n",
    "\n",
    "def setup_faiss_index(embeddings):\n",
    "    \"\"\"\n",
    "    Create and populate a FAISS index with the given embeddings.\n",
    "\n",
    "    Args:\n",
    "    embeddings (list): A list of embedding vectors.\n",
    "\n",
    "    Returns:\n",
    "    faiss.Index: The populated FAISS index.\n",
    "    \"\"\"\n",
    "    # Convert embeddings to numpy array if not already\n",
    "    embeddings_np = np.array(embeddings).astype('float32')\n",
    "\n",
    "    # Create a FAISS index\n",
    "    # We use IndexFlatL2, which performs exact L2 distance search\n",
    "    dimension = embeddings_np.shape[1]\n",
    "    index = faiss.IndexFlatL2(dimension)\n",
    "\n",
    "    # Add vectors to the index\n",
    "    index.add(embeddings_np)\n",
    "\n",
    "    return index\n",
    "\n",
    "# Create and populate the FAISS index\n",
    "faiss_index = setup_faiss_index(embeddings)\n",
    "\n",
    "# Save index to disk for future use\n",
    "faiss.write_index(faiss_index, \"blunder_mifflin_index.faiss\")"
   ]
  },
  {
   "cell_type": "markdown",
   "metadata": {},
   "source": [
    "# RAG System Implementation\n"
   ]
  },
  {
   "cell_type": "markdown",
   "metadata": {},
   "source": [
    "## Retrieval of Relevant Chunks\n"
   ]
  },
  {
   "cell_type": "code",
   "execution_count": null,
   "metadata": {},
   "outputs": [],
   "source": [
    "def retrieve_relevant_chunks(query, top_k=5):\n",
    "    query_vector = model.encode([query])\n",
    "    D, I = index.search(query_vector, top_k)\n",
    "    return [all_chunks[i] for i in I[0]]"
   ]
  },
  {
   "cell_type": "markdown",
   "metadata": {},
   "source": [
    "## Check implementation locally (without LLM)\n"
   ]
  },
  {
   "cell_type": "code",
   "execution_count": null,
   "metadata": {},
   "outputs": [],
   "source": [
    "from dotenv import load_dotenv\n",
    "load_dotenv()\n",
    "import os\n",
    "print(os.getenv('MY_VAR'))\n",
    "print(os.getenv('GROQ_API_KEY'))\n"
   ]
  },
  {
   "cell_type": "code",
   "execution_count": 6,
   "metadata": {},
   "outputs": [
    {
     "name": "stdout",
     "output_type": "stream",
     "text": [
      "Query: What is Blunder Mifflin's policy on pranks?\n",
      "Response: According to the given context, Blunder Mifflin has established a \"Prank Protocol\" with the following guidelines:\n",
      "\n",
      "1. **Respect Personal Space and Property** - No pranks that invade personal space or damage property.\n",
      "2. **Safety First** - Pranks should never endanger anyone's safety.\n",
      "3. **Productivity Matters** - Pranks should not disrupt work or interfere with employees' ability to do their jobs.\n",
      "4. **Inclusivity** - Pranks should be inclusive and not target specific individuals repeatedly.\n",
      "5. **Good Taste** - Keep it tasteful and avoid pranks that could be considered offensive or discriminatory.\n",
      "6. **Clean-Up** - The prankster is responsible for cleaning up after their pranks.\n",
      "\n",
      "These guidelines aim to keep the office environment friendly and professional while allowing for a little humor to brighten the workday.\n"
     ]
    }
   ],
   "source": [
    "import groq\n",
    "from typing import List\n",
    "from sentence_transformers import SentenceTransformer\n",
    "import faiss\n",
    "import numpy as np\n",
    "from pypdf import PdfReader\n",
    "from langchain.text_splitter import RecursiveCharacterTextSplitter\n",
    "import os\n",
    "\n",
    "# Initialize the Groq client\n",
    "client = groq.Groq()\n",
    "\n",
    "# Initialize the SentenceTransformer model\n",
    "model = SentenceTransformer('all-MiniLM-L6-v2')\n",
    "\n",
    "# Function to extract text from PDF\n",
    "def extract_text_from_pdf(pdf_path):\n",
    "    with open(pdf_path, 'rb') as file:\n",
    "        reader = PdfReader(file)\n",
    "        text = ''\n",
    "        for page in reader.pages:\n",
    "            text += page.extract_text() + '\\n'\n",
    "    return text\n",
    "\n",
    "# Function to create chunks\n",
    "def create_chunks(text, chunk_size=500, chunk_overlap=50):\n",
    "    text_splitter = RecursiveCharacterTextSplitter(\n",
    "        chunk_size=chunk_size,\n",
    "        chunk_overlap=chunk_overlap,\n",
    "        length_function=len,\n",
    "    )\n",
    "    chunks = text_splitter.split_text(text)\n",
    "    return chunks\n",
    "\n",
    "# Process PDF files and create chunks\n",
    "pdf_directory = './input_files/'  # Update this to your PDF directory path\n",
    "all_chunks = []\n",
    "for filename in os.listdir(pdf_directory):\n",
    "    if filename.endswith('.pdf'):\n",
    "        pdf_path = os.path.join(pdf_directory, filename)\n",
    "        text = extract_text_from_pdf(pdf_path)\n",
    "        chunks = create_chunks(text)\n",
    "        all_chunks.extend(chunks)\n",
    "\n",
    "# Create embeddings\n",
    "embeddings = model.encode(all_chunks)\n",
    "\n",
    "# Create and populate the FAISS index\n",
    "dimension = embeddings.shape[1]\n",
    "index = faiss.IndexFlatL2(dimension)\n",
    "index.add(embeddings.astype('float32'))\n",
    "\n",
    "def retrieve_relevant_chunks(query, top_k=5):\n",
    "    query_vector = model.encode([query])\n",
    "    D, I = index.search(query_vector.astype('float32'), top_k)\n",
    "    return [all_chunks[i] for i in I[0]]\n",
    "\n",
    "def generate_response(query: str, relevant_chunks: List[str], model: str = \"llama-3.1-8b-instant\") -> str:\n",
    "    # Prepare the prompt\n",
    "    context = \"\\n\".join(relevant_chunks)\n",
    "    prompt = f\"\"\"Based on the following context, please answer the question. If the answer is not in the context, say \"I don't have enough information to answer that question.\"\n",
    "\n",
    "Context:\n",
    "{context}\n",
    "\n",
    "Question: {query}\n",
    "\n",
    "Answer:\"\"\"\n",
    "\n",
    "    # Generate the response using Groq's API\n",
    "    chat_completion = client.chat.completions.create(\n",
    "        messages=[\n",
    "            {\n",
    "                \"role\": \"system\",\n",
    "                \"content\": \"You are a helpful assistant that answers questions based on the given context.\"\n",
    "            },\n",
    "            {\n",
    "                \"role\": \"user\",\n",
    "                \"content\": prompt\n",
    "            }\n",
    "        ],\n",
    "        model=model,\n",
    "        max_tokens=1000,\n",
    "        temperature=0.5\n",
    "    )\n",
    "\n",
    "    # Extract and return the generated response\n",
    "    return chat_completion.choices[0].message.content.strip()\n",
    "\n",
    "def rag_query(query: str, top_k: int = 5) -> str:\n",
    "    relevant_chunks = retrieve_relevant_chunks(query, top_k)\n",
    "    response = generate_response(query, relevant_chunks)\n",
    "    return response\n",
    "\n",
    "# Test the system\n",
    "test_query = \"What is Blunder Mifflin's policy on pranks?\"\n",
    "result = rag_query(test_query)\n",
    "print(f\"Query: {test_query}\")\n",
    "print(f\"Response: {result}\")"
   ]
  },
  {
   "cell_type": "markdown",
   "metadata": {},
   "source": [
    "# Groq\n"
   ]
  },
  {
   "cell_type": "code",
   "execution_count": null,
   "metadata": {},
   "outputs": [],
   "source": [
    "import os\n",
    "\n",
    "from groq import Groq\n",
    "\n",
    "client = Groq(\n",
    "    api_key=os.environ.get(\"GROQ_API_KEY\"),\n",
    ")\n",
    "\n",
    "chat_completion = client.chat.completions.create(\n",
    "    messages=[\n",
    "        {\n",
    "            \"role\": \"user\",\n",
    "            \"content\": \"Explain the importance of fast language models\",\n",
    "        }\n",
    "    ],\n",
    "    model=\"llama-3.1-8b-instant\",\n",
    ")\n",
    "\n",
    "print(chat_completion.choices[0].message.content)"
   ]
  }
 ],
 "metadata": {
  "kernelspec": {
   "display_name": "Python 3",
   "language": "python",
   "name": "python3"
  },
  "language_info": {
   "codemirror_mode": {
    "name": "ipython",
    "version": 3
   },
   "file_extension": ".py",
   "mimetype": "text/x-python",
   "name": "python",
   "nbconvert_exporter": "python",
   "pygments_lexer": "ipython3",
   "version": "3.12.4"
  }
 },
 "nbformat": 4,
 "nbformat_minor": 2
}
