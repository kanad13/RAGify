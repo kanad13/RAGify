{
 "cells": [
  {
   "cell_type": "markdown",
   "metadata": {},
   "source": [
    "# Introduction\n",
    "\n",
    "This jupyter notebook helps you to build a RAG system from scratch.\n",
    "\n",
    "I strongly recommend you to checkout the [README](./readme.md) section to gain a background about this topic before diving straight into the code.\n"
   ]
  },
  {
   "cell_type": "markdown",
   "metadata": {},
   "source": [
    "# Setup dev env\n"
   ]
  },
  {
   "cell_type": "markdown",
   "metadata": {},
   "source": [
    "### Python\n",
    "\n",
    "It all starts with Python as usual. Install it as described [here](https://wiki.python.org/moin/BeginnersGuide/Download).\n"
   ]
  },
  {
   "cell_type": "markdown",
   "metadata": {},
   "source": [
    "### Git\n",
    "\n",
    "- Create a folder named \"RAGify\" or any other name you would like.\n",
    "- Make a Git repository out of this folder. If you are new to the Git topic, then [check here for help](https://docs.github.com/en/get-started/getting-started-with-git/set-up-git).\n"
   ]
  },
  {
   "cell_type": "code",
   "execution_count": null,
   "metadata": {},
   "outputs": [],
   "source": [
    "# Create a folder named \"RAGify\" or any other name you would like\n",
    "import os\n",
    "\n",
    "#os.makedirs(\"RAGify\", exist_ok=True)\n",
    "\n",
    "# Navigate into the folder\n",
    "#%cd RAGify\n",
    "\n",
    "# Initialize a git repository\n",
    "#!git init"
   ]
  },
  {
   "cell_type": "markdown",
   "metadata": {},
   "source": [
    "## Python Virtual Environment\n",
    "\n",
    "- [Check here](https://realpython.com/python-virtual-environments-a-primer/) why is a venv useful\n",
    "- Run cell below to create a venv\n"
   ]
  },
  {
   "cell_type": "code",
   "execution_count": null,
   "metadata": {},
   "outputs": [],
   "source": [
    "# Create a Python virtual environment\n",
    "#!python -m venv rag_venv\n",
    "\n",
    "# Add the virtual environment folder to \".gitignore\" file\n",
    "with open(\".gitignore\", \"a\") as f:\n",
    "    f.write(\"rag_venv/\\n\")\n"
   ]
  },
  {
   "cell_type": "markdown",
   "metadata": {},
   "source": [
    "- Activate the virtual environment:\n",
    "  - On Windows - `.\\rag_venv\\Scripts\\activate`\n",
    "  - On Mac - `source rag_venv/bin/activate`\n"
   ]
  },
  {
   "cell_type": "markdown",
   "metadata": {},
   "source": [
    "## Install Packages\n"
   ]
  },
  {
   "cell_type": "code",
   "execution_count": null,
   "metadata": {},
   "outputs": [],
   "source": [
    "# Create requirements.txt file\n",
    "requirements = \"\"\"\n",
    "streamlit\n",
    "sentence-transformers\n",
    "pypdf\n",
    "langchain\n",
    "faiss-cpu\n",
    "google-generativeai\n",
    "\"\"\"\n",
    "\n",
    "with open(\"requirements.txt\", \"w\") as f:\n",
    "    f.write(requirements)\n",
    "\n",
    "# Install all dependencies\n",
    "!pip install -r requirements.txt\n"
   ]
  },
  {
   "cell_type": "markdown",
   "metadata": {},
   "source": [
    "# Process input PDF files\n"
   ]
  },
  {
   "cell_type": "code",
   "execution_count": 2,
   "metadata": {},
   "outputs": [],
   "source": [
    "# Import the PdfReader class from the pypdf library\n",
    "from pypdf import PdfReader\n",
    "\n",
    "def extract_text_from_pdf(pdf_path):\n",
    "    \"\"\"\n",
    "    Extract text from a PDF file.\n",
    "\n",
    "    Args:\n",
    "    pdf_path (str): The file path to the PDF.\n",
    "\n",
    "    Returns:\n",
    "    str: Extracted text from all pages of the PDF.\n",
    "    \"\"\"\n",
    "    # Open the PDF file in binary read mode\n",
    "    with open(pdf_path, 'rb') as file:\n",
    "        # Create a PdfReader object to read the PDF\n",
    "        reader = PdfReader(file)\n",
    "\n",
    "        # Initialize an empty string to store the extracted text\n",
    "        text = ''\n",
    "\n",
    "        # Iterate through each page in the PDF\n",
    "        for page in reader.pages:\n",
    "            # Extract text from the current page and add it to the text string\n",
    "            # The '\\n' adds a newline character after each page's text\n",
    "            text += page.extract_text() + '\\n'\n",
    "\n",
    "    # Return the accumulated text from all pages\n",
    "    return text\n",
    "\n",
    "# List of file paths for the PDFs to process\n",
    "pdf_paths = [\n",
    "    './input_files/01-about_blunder_mifflin.pdf',\n",
    "    './input_files/02-employee_handbook.pdf',\n",
    "    './input_files/03-relationships_policy.pdf',\n",
    "    './input_files/04-prank_protocol.pdf',\n",
    "    './input_files/05-birthday_party_committee_rules.pdf',\n",
    "]\n",
    "\n",
    "# Use a list comprehension to extract text from all PDFs\n",
    "# This creates a list where each item is the extracted text from one PDF\n",
    "documents = [extract_text_from_pdf(pdf_path) for pdf_path in pdf_paths]\n",
    "\n",
    "# At this point, 'documents' is a list of strings, where each string\n",
    "# contains the full text of one PDF file"
   ]
  },
  {
   "cell_type": "markdown",
   "metadata": {},
   "source": [
    "# Text Chunking with LangChain\n"
   ]
  },
  {
   "cell_type": "code",
   "execution_count": 3,
   "metadata": {},
   "outputs": [],
   "source": [
    "from langchain.text_splitter import RecursiveCharacterTextSplitter\n",
    "\n",
    "def create_chunks(text, chunk_size=500, chunk_overlap=50):\n",
    "    \"\"\"\n",
    "    Split a large text into smaller chunks.\n",
    "\n",
    "    Args:\n",
    "    text (str): The input text to be split.\n",
    "    chunk_size (int): The maximum size of each chunk.\n",
    "    chunk_overlap (int): The number of characters to overlap between chunks.\n",
    "\n",
    "    Returns:\n",
    "    list: A list of text chunks.\n",
    "    \"\"\"\n",
    "    text_splitter = RecursiveCharacterTextSplitter(\n",
    "        chunk_size=chunk_size,\n",
    "        chunk_overlap=chunk_overlap,\n",
    "        length_function=len,\n",
    "    )\n",
    "    chunks = text_splitter.split_text(text)\n",
    "    return chunks\n",
    "\n",
    "# Create chunks for all documents\n",
    "all_chunks = []\n",
    "for doc in documents:\n",
    "    all_chunks.extend(create_chunks(doc))"
   ]
  },
  {
   "cell_type": "markdown",
   "metadata": {},
   "source": [
    "# Embedding Creation with Sentence Transformers"
   ]
  },
  {
   "cell_type": "code",
   "execution_count": 4,
   "metadata": {},
   "outputs": [
    {
     "name": "stderr",
     "output_type": "stream",
     "text": [
      "/Users/industry132317/Data/repos/RAGify/rag_venv/lib/python3.12/site-packages/sentence_transformers/cross_encoder/CrossEncoder.py:11: TqdmWarning: IProgress not found. Please update jupyter and ipywidgets. See https://ipywidgets.readthedocs.io/en/stable/user_install.html\n",
      "  from tqdm.autonotebook import tqdm, trange\n"
     ]
    }
   ],
   "source": [
    "from sentence_transformers import SentenceTransformer\n",
    "\n",
    "def create_embeddings(chunks):\n",
    "    \"\"\"\n",
    "    Generate embeddings for a list of text chunks.\n",
    "\n",
    "    Args:\n",
    "        chunks (list): A list of text chunks to embed.\n",
    "\n",
    "    Returns:\n",
    "        list: A list of embedding vectors.\n",
    "    \"\"\"\n",
    "    # Initialize the SentenceTransformer model\n",
    "    model = SentenceTransformer('all-MiniLM-L6-v2')\n",
    "\n",
    "    # Generate embeddings for all chunks\n",
    "    embeddings = model.encode(chunks)\n",
    "\n",
    "    return embeddings\n",
    "\n",
    "# Create embeddings for all chunks\n",
    "embeddings = create_embeddings(all_chunks)"
   ]
  },
  {
   "cell_type": "markdown",
   "metadata": {},
   "source": [
    "# Vector Database Setup with FAISS"
   ]
  },
  {
   "cell_type": "code",
   "execution_count": 5,
   "metadata": {},
   "outputs": [],
   "source": [
    "import faiss\n",
    "import numpy as np\n",
    "\n",
    "def setup_faiss_index(embeddings):\n",
    "    \"\"\"\n",
    "    Create and populate a FAISS index with the given embeddings.\n",
    "\n",
    "    Args:\n",
    "    embeddings (list): A list of embedding vectors.\n",
    "\n",
    "    Returns:\n",
    "    faiss.Index: The populated FAISS index.\n",
    "    \"\"\"\n",
    "    # Convert embeddings to numpy array if not already\n",
    "    embeddings_np = np.array(embeddings).astype('float32')\n",
    "\n",
    "    # Create a FAISS index\n",
    "    # We use IndexFlatL2, which performs exact L2 distance search\n",
    "    dimension = embeddings_np.shape[1]\n",
    "    index = faiss.IndexFlatL2(dimension)\n",
    "\n",
    "    # Add vectors to the index\n",
    "    index.add(embeddings_np)\n",
    "\n",
    "    return index\n",
    "\n",
    "# Create and populate the FAISS index\n",
    "faiss_index = setup_faiss_index(embeddings)\n",
    "\n",
    "# Save index to disk for future use\n",
    "faiss.write_index(faiss_index, \"blunder_mifflin_index.faiss\")"
   ]
  }
 ],
 "metadata": {
  "kernelspec": {
   "display_name": "Python 3",
   "language": "python",
   "name": "python3"
  },
  "language_info": {
   "codemirror_mode": {
    "name": "ipython",
    "version": 3
   },
   "file_extension": ".py",
   "mimetype": "text/x-python",
   "name": "python",
   "nbconvert_exporter": "python",
   "pygments_lexer": "ipython3",
   "version": "3.12.4"
  }
 },
 "nbformat": 4,
 "nbformat_minor": 2
}
