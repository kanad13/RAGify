{
 "cells": [
  {
   "cell_type": "markdown",
   "metadata": {},
   "source": [
    "# Introduction\n",
    "\n",
    "This jupyter notebook helps you to build a RAG system from scratch.\n",
    "\n",
    "I strongly recommend you to checkout the [README](./readme.md) section to gain a background about this topic before diving straight into the code.\n"
   ]
  },
  {
   "cell_type": "markdown",
   "metadata": {},
   "source": [
    "# Setup dev env\n"
   ]
  },
  {
   "cell_type": "markdown",
   "metadata": {},
   "source": [
    "## Python Virtual Environment\n",
    "\n",
    "- [Check here](https://realpython.com/python-virtual-environments-a-primer/) why is a venv useful\n",
    "- Run cell below to create a venv\n"
   ]
  },
  {
   "cell_type": "code",
   "execution_count": null,
   "metadata": {},
   "outputs": [],
   "source": [
    "# Create a Python virtual environment\n",
    "#!python -m venv rag_venv\n",
    "\n",
    "# Add the virtual environment folder to \".gitignore\" file\n",
    "#with open(\".gitignore\", \"a\") as f:\n",
    "#    f.write(\"rag_venv/\\n\")\n"
   ]
  },
  {
   "cell_type": "markdown",
   "metadata": {},
   "source": [
    "- Activate the virtual environment:\n",
    "  - On Windows - `.\\rag_venv\\Scripts\\activate`\n",
    "  - On Mac - `source rag_venv/bin/activate`\n"
   ]
  },
  {
   "cell_type": "markdown",
   "metadata": {},
   "source": [
    "## Install Packages\n"
   ]
  },
  {
   "cell_type": "code",
   "execution_count": null,
   "metadata": {},
   "outputs": [],
   "source": [
    "# Install all dependencies\n",
    "!pip install -r requirements.txt\n"
   ]
  },
  {
   "cell_type": "markdown",
   "metadata": {},
   "source": [
    "## load\n",
    "\n",
    "The Groq API key is stored in environment variables using the [python-dotenv package](https://pypi.org/project/python-dotenv/)\n"
   ]
  },
  {
   "cell_type": "code",
   "execution_count": null,
   "metadata": {},
   "outputs": [],
   "source": [
    "from dotenv import load_dotenv\n",
    "load_dotenv()\n",
    "import os\n",
    "#print(os.getenv('MY_VAR'))\n",
    "#print(os.getenv('GROQ_API_KEY'))\n"
   ]
  },
  {
   "cell_type": "markdown",
   "metadata": {},
   "source": [
    "# Ask Questions\n"
   ]
  },
  {
   "cell_type": "code",
   "execution_count": 31,
   "metadata": {},
   "outputs": [
    {
     "name": "stdout",
     "output_type": "stream",
     "text": [
      "Query: Am I alloed to work from home?\n",
      "Response: Mif\n"
     ]
    }
   ],
   "source": [
    "import groq\n",
    "from typing import List\n",
    "from sentence_transformers import SentenceTransformer\n",
    "import faiss\n",
    "import numpy as np\n",
    "from pypdf import PdfReader\n",
    "from langchain.text_splitter import RecursiveCharacterTextSplitter\n",
    "import os\n",
    "\n",
    "# Initialize the Groq client\n",
    "client = groq.Groq()\n",
    "\n",
    "# Initialize the SentenceTransformer model\n",
    "model = SentenceTransformer('all-MiniLM-L6-v2')\n",
    "\n",
    "# Function to extract text from PDF\n",
    "def extract_text_from_pdf(pdf_path):\n",
    "    with open(pdf_path, 'rb') as file:\n",
    "        reader = PdfReader(file)\n",
    "        text = ''\n",
    "        for page in reader.pages:\n",
    "            text += page.extract_text() + '\\n'\n",
    "    return text\n",
    "\n",
    "# Function to create chunks\n",
    "def create_chunks(text, chunk_size=500, chunk_overlap=50):\n",
    "    text_splitter = RecursiveCharacterTextSplitter(\n",
    "        chunk_size=chunk_size,\n",
    "        chunk_overlap=chunk_overlap,\n",
    "        length_function=len,\n",
    "    )\n",
    "    chunks = text_splitter.split_text(text)\n",
    "    return chunks\n",
    "\n",
    "# Process PDF files and create chunks\n",
    "pdf_directory = './input_files/'  # Update this to your PDF directory path\n",
    "all_chunks = []\n",
    "for filename in os.listdir(pdf_directory):\n",
    "    if filename.endswith('.pdf'):\n",
    "        pdf_path = os.path.join(pdf_directory, filename)\n",
    "        text = extract_text_from_pdf(pdf_path)\n",
    "        chunks = create_chunks(text)\n",
    "        all_chunks.extend(chunks)\n",
    "\n",
    "# Create embeddings\n",
    "embeddings = model.encode(all_chunks)\n",
    "\n",
    "# Create and populate the FAISS index\n",
    "dimension = embeddings.shape[1]\n",
    "index = faiss.IndexFlatL2(dimension)\n",
    "index.add(embeddings.astype('float32'))\n",
    "\n",
    "def retrieve_relevant_chunks(query, top_k=5):\n",
    "    query_vector = model.encode([query])\n",
    "    D, I = index.search(query_vector.astype('float32'), top_k)\n",
    "    return [all_chunks[i] for i in I[0]]\n",
    "\n",
    "def generate_response(query: str, relevant_chunks: List[str], model: str = \"gemma2-9b-it\") -> str: #llama-3.1-8b-instant, gemma2-9b-it\n",
    "    # Prepare the prompt\n",
    "    context = \"\\n\".join(relevant_chunks)\n",
    "    prompt = f\"\"\"Based on the following context, please answer the question. If the answer is not in the context, say \"I don't have enough information to answer that question.\"\n",
    "\n",
    "Context:\n",
    "{context}\n",
    "\n",
    "Question: {query}\n",
    "\n",
    "Answer:\"\"\"\n",
    "\n",
    "    # Generate the response using Groq's API\n",
    "    chat_completion = client.chat.completions.create(\n",
    "        messages=[\n",
    "            {\n",
    "                \"role\": \"system\",\n",
    "                \"content\": \"You are a helpful assistant that answers questions based on the given context.\"\n",
    "            },\n",
    "            {\n",
    "                \"role\": \"user\",\n",
    "                \"content\": prompt\n",
    "            }\n",
    "        ],\n",
    "        model=model,\n",
    "        max_tokens=1,\n",
    "        temperature=0.5,\n",
    "        # Controls diversity via nucleus sampling: 0.5 means half of all\n",
    "        # likelihood-weighted options are considered.\n",
    "        top_p=1024,\n",
    "        stop=None,\n",
    "        #stream=True,\n",
    "    )\n",
    "\n",
    "    # Extract and return the generated response\n",
    "    return chat_completion.choices[0].message.content.strip()\n",
    "\n",
    "def rag_query(query: str, top_k: int = 5) -> str:\n",
    "    relevant_chunks = retrieve_relevant_chunks(query, top_k)\n",
    "    response = generate_response(query, relevant_chunks)\n",
    "    return response\n",
    "\n",
    "# Test the system\n",
    "test_query = \"Am I allowed to work from home?\"\n",
    "result = rag_query(test_query)\n",
    "print(f\"Query: {test_query}\")\n",
    "print(f\"Response: {result}\")"
   ]
  },
  {
   "cell_type": "markdown",
   "metadata": {},
   "source": [
    "# Playground\n"
   ]
  },
  {
   "cell_type": "code",
   "execution_count": 34,
   "metadata": {},
   "outputs": [
    {
     "name": "stdout",
     "output_type": "stream",
     "text": [
      "{\n",
      "  \"id\": \"chatcmpl-8daa49bf-3a07-42fb-ab0e-c954a10d0107\",\n",
      "  \"object\": \"chat.completion\",\n",
      "  \"created\": 1722858859,\n",
      "  \"model\": \"gemma2-9b-it\",\n",
      "  \"system_fingerprint\": \"fp_10c08bf97d\",\n",
      "  \"choices\": [\n",
      "    {\n",
      "      \"index\": 0,\n",
      "      \"message\": {\n",
      "        \"role\": \"assistant\",\n",
      "        \"content\": \"I'm reading a book about anti-gravity. It's impossible to put down!  \\ud83d\\udcda\\ud83d\\ude04  \\n\\n\"\n",
      "      },\n",
      "      \"finish_reason\": \"stop\",\n",
      "      \"logprobs\": null\n",
      "    }\n",
      "  ],\n",
      "  \"usage\": {\n",
      "    \"prompt_tokens\": 28,\n",
      "    \"completion_tokens\": 27,\n",
      "    \"total_tokens\": 55,\n",
      "    \"prompt_time\": 0.003,\n",
      "    \"completion_time\": 0.054,\n",
      "    \"total_time\": 0.057\n",
      "  }\n",
      "}\n"
     ]
    }
   ],
   "source": [
    "import os\n",
    "import json\n",
    "from groq import Groq\n",
    "from datetime import datetime\n",
    "\n",
    "client = Groq(\n",
    "    api_key=os.environ.get(\"GROQ_API_KEY\"),\n",
    ")\n",
    "\n",
    "chat_completion = client.chat.completions.create(\n",
    "    messages=[\n",
    "        {\n",
    "            \"role\": \"system\",\n",
    "            \"content\": \"You are a helpful assistant.\"\n",
    "        },\n",
    "        {\n",
    "            \"role\": \"user\",\n",
    "            \"content\": \"Give me a funny one-liner.\",\n",
    "        }\n",
    "    ],\n",
    "    model=\"gemma2-9b-it\",  # gemma2-9b-it\n",
    "    temperature=1,\n",
    "    max_tokens=1024,\n",
    "    top_p=1,\n",
    "    stream=False,\n",
    "    stop=None\n",
    ")\n",
    "\n",
    "# Create a dictionary with the desired structure\n",
    "response_dict = {\n",
    "    \"id\": chat_completion.id,\n",
    "    \"object\": \"chat.completion\",\n",
    "    \"created\": int(datetime.now().timestamp()),\n",
    "    \"model\": chat_completion.model,\n",
    "    \"system_fingerprint\": chat_completion.system_fingerprint,  # This might be None\n",
    "    \"choices\": [\n",
    "        {\n",
    "            \"index\": 0,\n",
    "            \"message\": {\n",
    "                \"role\": \"assistant\",\n",
    "                \"content\": chat_completion.choices[0].message.content\n",
    "            },\n",
    "            \"finish_reason\": chat_completion.choices[0].finish_reason,\n",
    "            \"logprobs\": None\n",
    "        }\n",
    "    ],\n",
    "    \"usage\": {\n",
    "        \"prompt_tokens\": chat_completion.usage.prompt_tokens,\n",
    "        \"completion_tokens\": chat_completion.usage.completion_tokens,\n",
    "        \"total_tokens\": chat_completion.usage.total_tokens,\n",
    "        \"prompt_time\": round(chat_completion.usage.prompt_time, 3),\n",
    "        \"completion_time\": round(chat_completion.usage.completion_time, 3),\n",
    "        \"total_time\": round(chat_completion.usage.total_time, 3)\n",
    "    }\n",
    "}\n",
    "\n",
    "# Print the formatted JSON response\n",
    "print(json.dumps(response_dict, indent=2))"
   ]
  }
 ],
 "metadata": {
  "kernelspec": {
   "display_name": "Python 3",
   "language": "python",
   "name": "python3"
  },
  "language_info": {
   "codemirror_mode": {
    "name": "ipython",
    "version": 3
   },
   "file_extension": ".py",
   "mimetype": "text/x-python",
   "name": "python",
   "nbconvert_exporter": "python",
   "pygments_lexer": "ipython3",
   "version": "3.12.4"
  }
 },
 "nbformat": 4,
 "nbformat_minor": 2
}
